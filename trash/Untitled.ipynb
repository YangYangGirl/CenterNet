{
 "cells": [
  {
   "cell_type": "code",
   "execution_count": 2,
   "metadata": {},
   "outputs": [
    {
     "ename": "ModuleNotFoundError",
     "evalue": "No module named '_init_paths'",
     "output_type": "error",
     "traceback": [
      "\u001b[0;31m---------------------------------------------------------------------------\u001b[0m",
      "\u001b[0;31mModuleNotFoundError\u001b[0m                       Traceback (most recent call last)",
      "\u001b[0;32m<ipython-input-2-fba689b8af54>\u001b[0m in \u001b[0;36m<module>\u001b[0;34m\u001b[0m\n\u001b[1;32m      3\u001b[0m \u001b[0;32mfrom\u001b[0m \u001b[0m__future__\u001b[0m \u001b[0;32mimport\u001b[0m \u001b[0mprint_function\u001b[0m\u001b[0;34m\u001b[0m\u001b[0;34m\u001b[0m\u001b[0m\n\u001b[1;32m      4\u001b[0m \u001b[0;34m\u001b[0m\u001b[0m\n\u001b[0;32m----> 5\u001b[0;31m \u001b[0;32mimport\u001b[0m \u001b[0m_init_paths\u001b[0m\u001b[0;34m\u001b[0m\u001b[0;34m\u001b[0m\u001b[0m\n\u001b[0m\u001b[1;32m      6\u001b[0m \u001b[0;34m\u001b[0m\u001b[0m\n\u001b[1;32m      7\u001b[0m \u001b[0;32mimport\u001b[0m \u001b[0mos\u001b[0m\u001b[0;34m\u001b[0m\u001b[0;34m\u001b[0m\u001b[0m\n",
      "\u001b[0;31mModuleNotFoundError\u001b[0m: No module named '_init_paths'"
     ]
    }
   ],
   "source": [
    "from __future__ import absolute_import\n",
    "from __future__ import division\n",
    "from __future__ import print_function\n",
    "\n",
    "import _init_paths\n",
    "\n",
    "import os\n",
    "import cv2\n",
    "\n",
    "from opts import opts\n",
    "from detectors.detector_factory import detector_factory\n",
    "\n",
    "image_ext = ['jpg', 'jpeg', 'png', 'webp']\n",
    "video_ext = ['mp4', 'mov', 'avi', 'mkv']\n",
    "time_stats = ['tot', 'load', 'pre', 'net', 'dec', 'post', 'merge']\n",
    "\n",
    "def demo(opt):\n",
    "  os.environ['CUDA_VISIBLE_DEVICES'] = opt.gpus_str\n",
    "  opt.debug = max(opt.debug, 1)\n",
    "  Detector = detector_factory[opt.task]\n",
    "  detector = Detector(opt)\n",
    "  print(\"opt.demo\", opt.demo)\n",
    "\n",
    "  if opt.demo == 'webcam' or \\\n",
    "    opt.demo[opt.demo.rfind('.') + 1:].lower() in video_ext:\n",
    "    print(\"begin webcam\")\n",
    "    cam = cv2.VideoCapture(0 if opt.demo == 'webcam' else opt.demo)\n",
    "    detector.pause = False\n",
    "    while True:\n",
    "        _, img = cam.read()\n",
    "        #cv2.imshow('input', img)\n",
    "        ret = detector.run(img)\n",
    "        time_str = ''\n",
    "        for stat in time_stats:\n",
    "          time_str = time_str + '{} {:.3f}s |'.format(stat, ret[stat])\n",
    "        print(time_str)\n",
    "        if cv2.waitKey(1) == 27:\n",
    "            return  # esc to quit\n",
    "  else:\n",
    "    if os.path.isdir(opt.demo):\n",
    "      image_names = []\n",
    "      ls = os.listdir(opt.demo)\n",
    "      for file_name in sorted(ls):\n",
    "          ext = file_name[file_name.rfind('.') + 1:].lower()\n",
    "          if ext in image_ext:\n",
    "              image_names.append(os.path.join(opt.demo, file_name))\n",
    "    else:\n",
    "      image_names = [opt.demo]\n",
    "    \n",
    "    for (image_name) in image_names:\n",
    "      print(\"begin detector run\")\n",
    "      print(\"detector\", image_name)\n",
    "      ret = detector.run(image_name)\n",
    "      print(\"get run\")\n",
    "      time_str = ''\n",
    "      for stat in time_stats:\n",
    "        time_str = time_str + '{} {:.3f}s |'.format(stat, ret[stat])\n",
    "      print(time_str)"
   ]
  },
  {
   "cell_type": "code",
   "execution_count": 5,
   "metadata": {},
   "outputs": [
    {
     "name": "stderr",
     "output_type": "stream",
     "text": [
      "usage: ipykernel_launcher.py [-h] [--verbosity VERBOSITY]\n",
      "ipykernel_launcher.py: error: unrecognized arguments: -f /home/yy/.local/share/jupyter/runtime/kernel-973c5caa-bb8d-46f8-8da8-fdf1606261b0.json\n"
     ]
    },
    {
     "ename": "SystemExit",
     "evalue": "2",
     "output_type": "error",
     "traceback": [
      "An exception has occurred, use %tb to see the full traceback.\n",
      "\u001b[0;31mSystemExit\u001b[0m\u001b[0;31m:\u001b[0m 2\n"
     ]
    }
   ],
   "source": [
    "import argparse\n",
    "parser = argparse.ArgumentParser()\n",
    "parser.add_argument(\"--verbosity\", help=\"increase output verbosity\")\n",
    "args = parser.parse_args()\n",
    "if args.verbosity:\n",
    "    print(\"verbosity turned on\")"
   ]
  },
  {
   "cell_type": "code",
   "execution_count": 6,
   "metadata": {},
   "outputs": [
    {
     "ename": "SyntaxError",
     "evalue": "invalid character in identifier (<ipython-input-6-37d47f3e4d4a>, line 3)",
     "output_type": "error",
     "traceback": [
      "\u001b[0;36m  File \u001b[0;32m\"<ipython-input-6-37d47f3e4d4a>\"\u001b[0;36m, line \u001b[0;32m3\u001b[0m\n\u001b[0;31m    “batch_size”:100,\u001b[0m\n\u001b[0m               ^\u001b[0m\n\u001b[0;31mSyntaxError\u001b[0m\u001b[0;31m:\u001b[0m invalid character in identifier\n"
     ]
    }
   ],
   "source": [
    "args = parser.parse_args(argv[1:])\n",
    "args = easydict.EasyDict({\n",
    "    “batch_size”:100,\n",
    "    “train_steps”: 1000\n",
    "})"
   ]
  },
  {
   "cell_type": "code",
   "execution_count": 7,
   "metadata": {},
   "outputs": [
    {
     "ename": "SyntaxError",
     "evalue": "invalid character in identifier (<ipython-input-6-37d47f3e4d4a>, line 3)",
     "output_type": "error",
     "traceback": [
      "\u001b[0;36m  File \u001b[0;32m\"<ipython-input-6-37d47f3e4d4a>\"\u001b[0;36m, line \u001b[0;32m3\u001b[0m\n\u001b[0;31m    “batch_size”:100,\u001b[0m\n\u001b[0m               ^\u001b[0m\n\u001b[0;31mSyntaxError\u001b[0m\u001b[0;31m:\u001b[0m invalid character in identifier\n"
     ]
    }
   ],
   "source": [
    "%tb"
   ]
  },
  {
   "cell_type": "code",
   "execution_count": null,
   "metadata": {},
   "outputs": [],
   "source": []
  }
 ],
 "metadata": {
  "kernelspec": {
   "display_name": "Python [conda env:CenterNet] *",
   "language": "python",
   "name": "conda-env-CenterNet-py"
  },
  "language_info": {
   "codemirror_mode": {
    "name": "ipython",
    "version": 3
   },
   "file_extension": ".py",
   "mimetype": "text/x-python",
   "name": "python",
   "nbconvert_exporter": "python",
   "pygments_lexer": "ipython3",
   "version": "3.6.8"
  }
 },
 "nbformat": 4,
 "nbformat_minor": 2
}
